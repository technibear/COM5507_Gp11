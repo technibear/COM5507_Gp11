{
 "cells": [
  {
   "cell_type": "code",
   "execution_count": 2,
   "id": "32bd1588-fada-402f-aae0-3fd61ed730d0",
   "metadata": {
    "tags": []
   },
   "outputs": [
    {
     "name": "stdout",
     "output_type": "stream",
     "text": [
      "Successfully exported 108 song data to Top100_taylor_swift_songs.csv.\n"
     ]
    }
   ],
   "source": [
    "import csv\n",
    "import requests\n",
    "from bs4 import BeautifulSoup\n",
    "\n",
    "# Specify the base URL of Taylor Swift's Last.fm page\n",
    "base_url = 'https://www.last.fm/music/Taylor+Swift/+tracks?date_preset=LAST_7_DAYS&page='\n",
    "\n",
    "# Specify the number of pages to scrape\n",
    "num_pages = 2\n",
    "\n",
    "# Initialize an empty list to store all song data\n",
    "all_song_data = []\n",
    "\n",
    "# Iterate over the pages\n",
    "for page in range(1, num_pages + 1):\n",
    "    # Construct the URL for the current page\n",
    "    url = f\"{base_url}{page}\"\n",
    "\n",
    "    # Send a GET request to the URL\n",
    "    response = requests.get(url)\n",
    "\n",
    "    # Create a BeautifulSoup object to parse the HTML content\n",
    "    soup = BeautifulSoup(response.content, 'html.parser')\n",
    "\n",
    "    # Find the container that holds the song details\n",
    "    song_container = soup.find('table', class_='chartlist')\n",
    "\n",
    "    # Find all the rows within the container\n",
    "    rows = song_container.find_all('tr')\n",
    "\n",
    "    # Iterate over the rows and extract song details\n",
    "    for track_number, row in enumerate(rows, start=1):\n",
    "        song_name_element = row.find('td', class_='chartlist-name')\n",
    "        song_name = song_name_element.a.text.strip() if song_name_element and song_name_element.a else ''\n",
    "        listeners_element = row.find('span', class_='chartlist-count-bar-value')\n",
    "        listeners = listeners_element.text.strip() if listeners_element else ''\n",
    "\n",
    "        # Append song data to the list\n",
    "        all_song_data.append([track_number, song_name, listeners])\n",
    "\n",
    "# Specify the filename for the CSV file\n",
    "filename = 'Top100_taylor_swift_songs.csv'\n",
    "\n",
    "# Open the CSV file in write mode\n",
    "with open(filename, 'w', newline='', encoding='utf-8') as file:\n",
    "    writer = csv.writer(file)\n",
    "    writer.writerow(['Track Number', 'Song Name', 'Listeners'])  # Write the header row\n",
    "    writer.writerows(all_song_data)  # Write song data row by row\n",
    "\n",
    "print(f'Successfully exported {len(all_song_data)} song data to {filename}.')"
   ]
  },
  {
   "cell_type": "code",
   "execution_count": null,
   "id": "f2012012-d65d-4d8b-a7d7-751e9588ac98",
   "metadata": {},
   "outputs": [],
   "source": []
  },
  {
   "cell_type": "code",
   "execution_count": null,
   "id": "898bd6c8-d896-4252-8b38-9edaa1ca9ce3",
   "metadata": {},
   "outputs": [],
   "source": []
  }
 ],
 "metadata": {
  "kernelspec": {
   "display_name": "Python 3 (ipykernel)",
   "language": "python",
   "name": "python3"
  },
  "language_info": {
   "codemirror_mode": {
    "name": "ipython",
    "version": 3
   },
   "file_extension": ".py",
   "mimetype": "text/x-python",
   "name": "python",
   "nbconvert_exporter": "python",
   "pygments_lexer": "ipython3",
   "version": "3.11.5"
  }
 },
 "nbformat": 4,
 "nbformat_minor": 5
}
