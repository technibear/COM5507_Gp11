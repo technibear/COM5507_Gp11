{
 "cells": [
  {
   "cell_type": "code",
   "execution_count": 1,
   "id": "95a5efec-2d21-42fa-be09-786f7742d9d3",
   "metadata": {
    "tags": []
   },
   "outputs": [
    {
     "name": "stdout",
     "output_type": "stream",
     "text": [
      "     Track Number                                          Song Name  \\\n",
      "0               1                                                NaN   \n",
      "1               2                                       Cruel Summer   \n",
      "2               3  Is It Over Now? (Taylor's Version) (From the V...   \n",
      "3               4                  You’re Losing Me (From the Vault)   \n",
      "4               5  Now That We Don't Talk (Taylor's Version) (Fro...   \n",
      "..            ...                                                ...   \n",
      "103            50                           Death by a Thousand Cuts   \n",
      "104            51                                        Blank Space   \n",
      "105            52                                      So It Goes...   \n",
      "106            53                            Mine (Taylor's Version)   \n",
      "107            54                             Red (Taylor's Version)   \n",
      "\n",
      "             Listeners                                 Cleaned Song Names  \n",
      "0                  NaN                                                NaN  \n",
      "1    137,765 listeners                                       cruel summer  \n",
      "2    128,363 listeners      is it over now taylors version from the vault  \n",
      "3    126,304 listeners                    you’re losing me from the vault  \n",
      "4    121,810 listeners  now that we dont talk taylors version from the...  \n",
      "..                 ...                                                ...  \n",
      "103   39,195 listeners                           death by a thousand cuts  \n",
      "104   38,722 listeners                                        blank space  \n",
      "105   37,883 listeners                                         so it goes  \n",
      "106   38,910 listeners                               mine taylors version  \n",
      "107   38,545 listeners                                red taylors version  \n",
      "\n",
      "[108 rows x 4 columns]\n"
     ]
    }
   ],
   "source": [
    "import pandas as pd\n",
    "import string\n",
    "\n",
    "# Function to clean the song names\n",
    "def clean_song_name(song_name):\n",
    "    if isinstance(song_name, str):\n",
    "        # Convert to lowercase\n",
    "        song_name = song_name.lower()\n",
    "        # Remove punctuation\n",
    "        song_name = song_name.translate(str.maketrans('', '', string.punctuation))\n",
    "    return song_name\n",
    "\n",
    "# Read the CSV file\n",
    "csv_file = 'Top100_taylor_swift_songs.csv'\n",
    "df = pd.read_csv(csv_file)\n",
    "\n",
    "# Add a new column for cleaned song names\n",
    "df['Cleaned Song Names'] = df['Song Name'].apply(clean_song_name)\n",
    "\n",
    "# Write the DataFrame with the new column to a new CSV file\n",
    "new_csv_file = 'Top100_taylor_swift_songs_cleaned.csv'\n",
    "df.to_csv(new_csv_file, index=False)\n",
    "\n",
    "# Display the updated DataFrame\n",
    "print(df)"
   ]
  },
  {
   "cell_type": "code",
   "execution_count": null,
   "id": "c16f9213-d360-40c9-86a8-abb4c44974d4",
   "metadata": {},
   "outputs": [],
   "source": []
  }
 ],
 "metadata": {
  "kernelspec": {
   "display_name": "Python 3 (ipykernel)",
   "language": "python",
   "name": "python3"
  },
  "language_info": {
   "codemirror_mode": {
    "name": "ipython",
    "version": 3
   },
   "file_extension": ".py",
   "mimetype": "text/x-python",
   "name": "python",
   "nbconvert_exporter": "python",
   "pygments_lexer": "ipython3",
   "version": "3.11.5"
  }
 },
 "nbformat": 4,
 "nbformat_minor": 5
}
