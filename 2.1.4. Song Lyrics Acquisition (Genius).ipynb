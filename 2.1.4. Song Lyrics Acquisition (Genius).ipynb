{
 "cells": [
  {
   "cell_type": "code",
   "execution_count": 2,
   "id": "ffbecd63-466f-4c98-b61c-b8376c46e30e",
   "metadata": {
    "tags": []
   },
   "outputs": [
    {
     "name": "stdout",
     "output_type": "stream",
     "text": [
      "Scraping and CSV export completed successfully.\n"
     ]
    }
   ],
   "source": [
    "import csv\n",
    "import requests\n",
    "from bs4 import BeautifulSoup\n",
    "\n",
    "input_filename = r\"C:\\Users\\jeanw\\OneDrive\\City U\\Sem A\\COM5507 Social Media Data Acquisition\\Top100_taylor_swift_songs_cleaned.csv\"  # Replace with the path to your input CSV file\n",
    "output_filename = r\"C:\\Users\\jeanw\\OneDrive\\City U\\Sem A\\COM5507 Social Media Data Acquisition\\lyrics_data.csv\"  # Replace with the desired path for the output CSV file\n",
    "\n",
    "# Open the input CSV file\n",
    "with open(input_filename, \"r\", encoding=\"UTF-8\") as input_file:\n",
    "    reader = csv.reader(input_file)\n",
    "    next(reader)  # Skip the header row if necessary\n",
    "\n",
    "    # Create a list to store the scraped data\n",
    "    data = []\n",
    "\n",
    "    # Iterate over each row in the CSV file\n",
    "    for row in reader:\n",
    "        song_name = row[1]  # Assuming the song name is in the first column\n",
    "\n",
    "        # Construct the URL using the song name\n",
    "        url = f\"https://genius.com/Taylor-swift-{song_name.lower().replace(' ', '-')}-lyrics\"\n",
    "\n",
    "        # Send a request to the URL and retrieve the HTML content\n",
    "        response = requests.get(url)\n",
    "        soup = BeautifulSoup(response.text, \"html.parser\")\n",
    "\n",
    "        # Find the lyrics container and extract the lyrics if available\n",
    "        lyrics_container = soup.find(\"div\", class_=\"Lyrics__Container-sc-1ynbvzw-1\")\n",
    "        if lyrics_container is not None:\n",
    "            lyrics = lyrics_container.get_text(separator=\"\\n\")\n",
    "            data.append([song_name, lyrics.strip()])\n",
    "        else:\n",
    "            data.append([song_name, \"Lyrics not found\"])\n",
    "\n",
    "# Write the scraped data to the output CSV file\n",
    "with open(output_filename, \"w\", encoding=\"utf-8\", newline=\"\") as output_file:\n",
    "    writer = csv.writer(output_file)\n",
    "    writer.writerow([\"Song Name\", \"Lyrics\"])  # Write header row\n",
    "    writer.writerows(data)\n",
    "\n",
    "print(\"Scraping and CSV export completed successfully.\")"
   ]
  }
 ],
 "metadata": {
  "kernelspec": {
   "display_name": "Python 3 (ipykernel)",
   "language": "python",
   "name": "python3"
  },
  "language_info": {
   "codemirror_mode": {
    "name": "ipython",
    "version": 3
   },
   "file_extension": ".py",
   "mimetype": "text/x-python",
   "name": "python",
   "nbconvert_exporter": "python",
   "pygments_lexer": "ipython3",
   "version": "3.11.5"
  }
 },
 "nbformat": 4,
 "nbformat_minor": 5
}
