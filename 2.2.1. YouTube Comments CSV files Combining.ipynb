{
 "cells": [
  {
   "cell_type": "code",
   "execution_count": null,
   "id": "21b8c0ad-72a2-4340-bf05-ffb6e115ec01",
   "metadata": {},
   "outputs": [],
   "source": [
    "import pandas as pd\n",
    "import glob\n",
    "\n",
    "# Path to the directory containing the CSV files\n",
    "csv_dir = 'C:/Users/jeanw/OneDrive/City U/Combine/'\n",
    "\n",
    "# Get a list of all CSV files in the directory\n",
    "csv_files = glob.glob(csv_dir + '*.csv')\n",
    "\n",
    "# Initialize an empty list to store DataFrames\n",
    "dfs = []\n",
    "\n",
    "# Iterate over the CSV files and read them into separate DataFrames\n",
    "for file in csv_files:\n",
    "    df = pd.read_csv(file, encoding='utf-8')\n",
    "    dfs.append(df)\n",
    "\n",
    "# Concatenate all DataFrames into a single DataFrame\n",
    "combined_data = pd.concat(dfs, ignore_index=True)\n",
    "\n",
    "# Path and filename for the combined CSV file\n",
    "combined_csv_file = 'C:/Users/jeanw/OneDrive/City U/Combine/YTC_all_song.csv'\n",
    "\n",
    "# Export the combined data to a CSV file\n",
    "combined_data.to_csv(combined_csv_file, index=False)\n",
    "\n",
    "print(f\"Combined CSV file created: {combined_csv_file}\")"
   ]
  }
 ],
 "metadata": {
  "kernelspec": {
   "display_name": "Python 3 (ipykernel)",
   "language": "python",
   "name": "python3"
  },
  "language_info": {
   "codemirror_mode": {
    "name": "ipython",
    "version": 3
   },
   "file_extension": ".py",
   "mimetype": "text/x-python",
   "name": "python",
   "nbconvert_exporter": "python",
   "pygments_lexer": "ipython3",
   "version": "3.11.5"
  }
 },
 "nbformat": 4,
 "nbformat_minor": 5
}
