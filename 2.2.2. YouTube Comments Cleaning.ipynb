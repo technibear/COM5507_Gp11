{
 "cells": [
  {
   "cell_type": "code",
   "execution_count": 2,
   "id": "0d32c853-df7f-4095-8d65-48d2fe2e5f31",
   "metadata": {
    "tags": []
   },
   "outputs": [],
   "source": [
    "import pandas as pd\n",
    "import string\n",
    "import re\n",
    "from nltk.corpus import stopwords\n",
    "from nltk.tokenize import word_tokenize\n",
    "\n",
    "# Read the CSV file\n",
    "df = pd.read_csv('YTC_all_song.csv')\n",
    "\n",
    "# Replace NaN values with an empty string\n",
    "df['Comment'] = df['Comment'].fillna('')\n",
    "\n",
    "# Convert text to lowercase\n",
    "df['Comment'] = df['Comment'].str.lower()\n",
    "\n",
    "# Remove punctuation\n",
    "df['Comment'] = df['Comment'].str.replace('[{}]'.format(string.punctuation), '')\n",
    "\n",
    "# Remove numbers\n",
    "df['Comment'] = df['Comment'].str.replace('\\d+', '')\n",
    "\n",
    "# Remove standard stopwords\n",
    "stop_words = set(stopwords.words('english'))\n",
    "df['Comment'] = df['Comment'].apply(lambda x: ' '.join(word for word in str(x).split() if word not in stop_words))\n",
    "\n",
    "# Remove customized stopwords\n",
    "custom_stopwords = set(['taylor', 'swift', 'swifts', 'song', 'songs', 'b', 'im', 'blank', 'space', 'song', 'year', 'years', 'one', 'stil', 'de', ])  # Add your customized stopwords here\n",
    "df['Comment'] = df['Comment'].apply(lambda x: ' '.join(word for word in str(x).split() if word not in custom_stopwords))\n",
    "\n",
    "# Remove URLs and special characters\n",
    "df['Comment'] = df['Comment'].apply(lambda x: re.sub(r'http\\S+|www\\.\\S+', '', str(x)))\n",
    "df['Comment'] = df['Comment'].apply(lambda x: re.sub(r'[^a-zA-Z\\s]', '', str(x)))\n",
    "\n",
    "# Tokenize the cleaned text and add the tokens to a new column\n",
    "df['tokens'] = df['Comment'].apply(word_tokenize)\n",
    "\n",
    "# Write the DataFrame to a new CSV file\n",
    "df.to_csv('YTC_all_song_cleaned.csv', index=False)"
   ]
  },
  {
   "cell_type": "code",
   "execution_count": null,
   "id": "d7a0d48d-3a5b-4e82-a42f-0fd7137ad643",
   "metadata": {},
   "outputs": [],
   "source": []
  }
 ],
 "metadata": {
  "kernelspec": {
   "display_name": "Python 3 (ipykernel)",
   "language": "python",
   "name": "python3"
  },
  "language_info": {
   "codemirror_mode": {
    "name": "ipython",
    "version": 3
   },
   "file_extension": ".py",
   "mimetype": "text/x-python",
   "name": "python",
   "nbconvert_exporter": "python",
   "pygments_lexer": "ipython3",
   "version": "3.11.5"
  }
 },
 "nbformat": 4,
 "nbformat_minor": 5
}
