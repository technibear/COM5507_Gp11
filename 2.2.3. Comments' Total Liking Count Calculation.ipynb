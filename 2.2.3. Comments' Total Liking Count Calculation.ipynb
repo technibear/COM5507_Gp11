{
 "cells": [
  {
   "cell_type": "code",
   "execution_count": 1,
   "id": "edc22ea7-cf28-4453-8754-ab4f133f9e2c",
   "metadata": {
    "tags": []
   },
   "outputs": [
    {
     "name": "stdout",
     "output_type": "stream",
     "text": [
      "Successfully extracted the like count by song to sumtotal_like_count_by_all_song.csv.\n"
     ]
    }
   ],
   "source": [
    "import pandas as pd\n",
    "\n",
    "# Read the CSV file\n",
    "df = pd.read_csv('YTC_all_song_cleaned.csv')\n",
    "\n",
    "# Group the DataFrame by the first column (song column label) and calculate the sum of \"Like Count\"\n",
    "grouped_df = df.groupby(df.columns[0])['Like Count'].sum().reset_index()\n",
    "\n",
    "# Specify the filename for the CSV file\n",
    "output_filename = 'sumtotal_like_count_by_all_song.csv'\n",
    "\n",
    "# Export the grouped DataFrame to a new CSV file\n",
    "grouped_df.to_csv(output_filename, index=False)\n",
    "\n",
    "print(f'Successfully extracted the like count by song to {output_filename}.')"
   ]
  },
  {
   "cell_type": "code",
   "execution_count": null,
   "id": "a6fb1c7e-3efd-46c0-90e4-2f813ed2404e",
   "metadata": {},
   "outputs": [],
   "source": []
  }
 ],
 "metadata": {
  "kernelspec": {
   "display_name": "Python 3 (ipykernel)",
   "language": "python",
   "name": "python3"
  },
  "language_info": {
   "codemirror_mode": {
    "name": "ipython",
    "version": 3
   },
   "file_extension": ".py",
   "mimetype": "text/x-python",
   "name": "python",
   "nbconvert_exporter": "python",
   "pygments_lexer": "ipython3",
   "version": "3.11.5"
  }
 },
 "nbformat": 4,
 "nbformat_minor": 5
}
