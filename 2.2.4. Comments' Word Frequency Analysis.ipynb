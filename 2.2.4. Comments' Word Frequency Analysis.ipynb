{
 "cells": [
  {
   "cell_type": "code",
   "execution_count": null,
   "id": "f11a9988-21da-4c32-90d0-008bb55ee3db",
   "metadata": {},
   "outputs": [],
   "source": [
    "import pandas as pd\n",
    "import matplotlib.pyplot as plt\n",
    "from collections import Counter\n",
    "from ast import literal_eval\n",
    "\n",
    "# Read the CSV file\n",
    "df = pd.read_csv('YTC_all_song_cleaned.csv')\n",
    "\n",
    "# If the tokens are not already a list, convert string representation of list to list\n",
    "if df['tokens'].dtype == 'object':\n",
    "    df['tokens'] = df['tokens'].apply(literal_eval)\n",
    "\n",
    "# Create a list of all words across all comments\n",
    "all_words = [word for tokens in df['tokens'] for word in tokens]\n",
    "\n",
    "# Get the 20 most common words\n",
    "counter = Counter(all_words)\n",
    "most_common_words = counter.most_common(20)\n",
    "\n",
    "# Print the 20 most common words\n",
    "for word, count in most_common_words:\n",
    "    print(f'{word}: {count}')\n",
    "\n",
    "# Plot the 20 most common words\n",
    "word_names = [word for word, _ in most_common_words]\n",
    "word_counts = [count for _, count in most_common_words]\n",
    "\n",
    "plt.figure(figsize=(15, 10))\n",
    "plt.bar(word_names, word_counts)\n",
    "plt.title('Top 20 most common words')\n",
    "plt.xlabel('Words')\n",
    "plt.ylabel('Frequency')\n",
    "plt.xticks(rotation=90)  # Rotate x-axis labels for better readability\n",
    "plt.show()"
   ]
  }
 ],
 "metadata": {
  "kernelspec": {
   "display_name": "Python 3 (ipykernel)",
   "language": "python",
   "name": "python3"
  },
  "language_info": {
   "codemirror_mode": {
    "name": "ipython",
    "version": 3
   },
   "file_extension": ".py",
   "mimetype": "text/x-python",
   "name": "python",
   "nbconvert_exporter": "python",
   "pygments_lexer": "ipython3",
   "version": "3.11.5"
  }
 },
 "nbformat": 4,
 "nbformat_minor": 5
}
