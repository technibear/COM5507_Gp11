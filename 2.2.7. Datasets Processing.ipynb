{
 "cells": [
  {
   "cell_type": "code",
   "execution_count": 3,
   "id": "fd1a5fde",
   "metadata": {},
   "outputs": [],
   "source": [
    "#The Sentiments score of Top 100 Song Lyrics & Comments\n",
    "\n",
    "import pandas as pd\n",
    "\n",
    "# 读取文件1\n",
    "file1 = pd.read_csv('lyrics_data_sentiment.csv')\n",
    "\n",
    "# 读取文件2\n",
    "file2 = pd.read_csv('Comment_sentiment_result_grouped_without_song_name.csv')\n",
    "\n",
    "# 挑选文件1中的列\n",
    "file1_selected = file1[['Song Name', 'compound']].copy()\n",
    "file1_selected.rename(columns={'compound':'Song Lyrics Sentiment Compound'}, inplace=True)\n",
    "\n",
    "# 挑选文件2中的列\n",
    "file2_selected = file2[['Song code', 'compound']].copy()\n",
    "file2_selected.rename(columns={'compound':'Comments Sentiment Compound'}, inplace=True)\n",
    "\n",
    "# 合并两个文件\n",
    "file3 = pd.concat([file1_selected, file2_selected], axis=1)\n",
    "\n",
    "# 重新排列列的顺序\n",
    "file3 = file3[['Song code', 'Song Name', 'Song Lyrics Sentiment Compound',\n",
    "               'Comments Sentiment Compound']]\n",
    "\n",
    "# 将合并的数据保存为新的文件3\n",
    "file3.to_csv('Top100_sentiments_dataset.csv', index=False)\n"
   ]
  },
  {
   "cell_type": "code",
   "execution_count": 4,
   "id": "22d84b57",
   "metadata": {},
   "outputs": [],
   "source": [
    "#The Audio Features across time\n",
    "\n",
    "import pandas as pd\n",
    "\n",
    "# 读取原始文件\n",
    "original_file = pd.read_csv('spotify_taylor_all_info.csv')\n",
    "\n",
    "# 挑选指定的列\n",
    "selected_columns = original_file[['Track Name', 'Popularity', 'Energy', 'Danceability',\n",
    "                                  'Valence', 'Phase']].copy()\n",
    "\n",
    "# 重命名列名\n",
    "selected_columns.rename(columns={'Track Name':'Song Name'}, inplace=True)\n",
    "\n",
    "# 将挑选的列保存为新的文件\n",
    "selected_columns.to_csv('audio_features_dataset.csv', index=False)\n"
   ]
  },
  {
   "cell_type": "code",
   "execution_count": 5,
   "id": "b9f235c9",
   "metadata": {},
   "outputs": [],
   "source": [
    "#Sample 1\n",
    "\n",
    "import pandas as pd\n",
    "\n",
    "# 读取数据集\n",
    "data = pd.read_csv('Top100_sentiments_dataset.csv')\n",
    "\n",
    "# 提取前10行数据\n",
    "data_samples = data.head(10)\n",
    "\n",
    "# 将提取的数据保存为CSV文件\n",
    "data_samples.to_csv('Top100_sentiments_dataset_samples.csv', index=False)\n"
   ]
  },
  {
   "cell_type": "code",
   "execution_count": 6,
   "id": "19a3d831",
   "metadata": {},
   "outputs": [],
   "source": [
    "#Sample 2\n",
    "\n",
    "import pandas as pd\n",
    "\n",
    "# 读取数据集\n",
    "data = pd.read_csv('audio_features_dataset.csv')\n",
    "\n",
    "# 提取前10行数据\n",
    "data_samples = data.head(10)\n",
    "\n",
    "# 将提取的数据保存为CSV文件\n",
    "data_samples.to_csv('audio_features_dataset_samples.csv', index=False)\n"
   ]
  },
  {
   "cell_type": "code",
   "execution_count": null,
   "id": "9fe9af10",
   "metadata": {},
   "outputs": [],
   "source": []
  }
 ],
 "metadata": {
  "kernelspec": {
   "display_name": "Python 3 (ipykernel)",
   "language": "python",
   "name": "python3"
  },
  "language_info": {
   "codemirror_mode": {
    "name": "ipython",
    "version": 3
   },
   "file_extension": ".py",
   "mimetype": "text/x-python",
   "name": "python",
   "nbconvert_exporter": "python",
   "pygments_lexer": "ipython3",
   "version": "3.11.4"
  }
 },
 "nbformat": 4,
 "nbformat_minor": 5
}
